{
  "nbformat": 4,
  "nbformat_minor": 0,
  "metadata": {
    "colab": {
      "provenance": []
    },
    "kernelspec": {
      "name": "python3",
      "display_name": "Python 3"
    },
    "language_info": {
      "name": "python"
    }
  },
  "cells": [
    {
      "cell_type": "markdown",
      "source": [
        "Question 1. What is Python, and why is it popular ?\n",
        "\n",
        "    Python is a high-level programming language that is simple, powerful, and easy to learn.\n",
        "\n",
        "Why Python is popular\n",
        "\n",
        "    Simple to read and write – Its code looks like English, so beginners understand it quickly.\n",
        "\n",
        "    Versatile – Used in many fields: web development, data science, AI, machine learning, automation, gaming, etc.\n",
        "\n",
        "    Large community – Millions of developers use it, so it’s easy to find help, tutorials, and libraries.\n",
        "\n",
        "    Huge library support – Ready-made tools (like NumPy, Pandas, TensorFlow, Flask, Django) save time.\n",
        "\n",
        "    Cross-platform – Works on Windows, Mac, and Linux without changes.\n",
        "\n",
        "    In short: Python is popular because it is easy, powerful, and useful everywhere."
      ],
      "metadata": {
        "id": "FZ--Sa3tQCXO"
      }
    },
    {
      "cell_type": "markdown",
      "source": [
        "Question 2. What is an interpreter in Python ?\n",
        "\n",
        "    An interpreter in Python is a program that reads and runs Python code line by line, instead of converting the whole code into machine language at once.\n",
        "    This makes Python easy to test, debug, and run quickly without compiling."
      ],
      "metadata": {
        "id": "QUPqGfzgQd5H"
      }
    },
    {
      "cell_type": "markdown",
      "source": [
        "Question 3. What are pre-defined keywords in Python ?\n",
        "\n",
        "    Pre-defined keywords in Python are special reserved words that have a fixed meaning and purpose in the language.\n",
        "    You cannot use them as variable names or identifiers.\n",
        "\n",
        "Examples:\n",
        "\n",
        "    if, else, while, for, class, try, True, False, None, import, def\n",
        "\n",
        "    In short: Keywords are built-in words in Python that the language uses for its own rules and syntax."
      ],
      "metadata": {
        "id": "q0WPiEY9Qxl6"
      }
    },
    {
      "cell_type": "markdown",
      "source": [
        "Question 4. Can keywords be used as variable names ?\n",
        "\n",
        "    No , keywords cannot be used as variable names in Python because they are reserved words with special meaning.\n",
        "\n",
        "Example:"
      ],
      "metadata": {
        "id": "K0q3gAIXRHrs"
      }
    },
    {
      "cell_type": "code",
      "source": [
        "if = 10   # ❌ Error (because \"if\" is a keyword)\n",
        "name = 10 # ✅ Works fine\n"
      ],
      "metadata": {
        "id": "7Q_wiHZ7Rawm"
      },
      "execution_count": null,
      "outputs": []
    },
    {
      "cell_type": "markdown",
      "source": [
        "    In short: Keywords are reserved, so they cannot be used as variable names."
      ],
      "metadata": {
        "id": "MZnvFfdURfyF"
      }
    },
    {
      "cell_type": "markdown",
      "source": [
        "Question 5. What is mutability in Python ?"
      ],
      "metadata": {
        "id": "S5q7Z4wcRnIR"
      }
    },
    {
      "cell_type": "markdown",
      "source": [
        "    Mutability in Python means whether the value of an object can be changed after it is created.\n",
        "\n",
        "    Mutable objects → can be changed (like list, dict, set).\n",
        "\n",
        "    Immutable objects → cannot be changed (like int, float, string, tuple).\n",
        "\n",
        "    In short: Mutability = changeable, Immutability = unchangeable."
      ],
      "metadata": {
        "id": "JLhfRa_ARx5D"
      }
    },
    {
      "cell_type": "markdown",
      "source": [
        "Question 6. Why are lists mutable, but tuples are immutable ?\n",
        "\n",
        "In Python:\n",
        "\n",
        "    Lists are mutable → You can change (add, remove, or update) the elements after the list is created.\n",
        "\n",
        "    Reason: Lists are designed to be flexible for storing collections that may need modifications.\n",
        "\n",
        "    Tuples are immutable → Once a tuple is created, its elements cannot be changed.\n",
        "\n",
        "    Reason: Tuples are meant to be fixed collections, often used for data that should not change (like coordinates, or as dictionary keys).\n",
        "\n",
        "In short:\n",
        "\n",
        "    List = changeable, flexible.\n",
        "\n",
        "    Tuple = fixed, safe, hashable."
      ],
      "metadata": {
        "id": "z53GzWtPAulW"
      }
    },
    {
      "cell_type": "markdown",
      "source": [
        "Question 7. What is the difference between “==” and “is” operators in Python ?\n",
        "\n",
        "    == (equality operator) → Checks if the values of two objects are the same.\n",
        "\n",
        "    is (identity operator) → Checks if two objects refer to the same memory location (same object in memory).\n",
        "\n",
        "Example:"
      ],
      "metadata": {
        "id": "Xi3IqeZvBFAr"
      }
    },
    {
      "cell_type": "code",
      "source": [
        "a = [1, 2, 3]\n",
        "b = [1, 2, 3]\n",
        "\n",
        "print(a == b)  # True  (values are equal)\n",
        "print(a is b)  # False (different objects in memory)\n"
      ],
      "metadata": {
        "id": "NAXLVSzMBVde"
      },
      "execution_count": null,
      "outputs": []
    },
    {
      "cell_type": "markdown",
      "source": [
        "So:\n",
        "\n",
        "    Use == when you want to compare contents/values.\n",
        "\n",
        "    Use is when you want to check if both variables point to the same object."
      ],
      "metadata": {
        "id": "f1coCLs5BbY5"
      }
    },
    {
      "cell_type": "markdown",
      "source": [
        "Question 8. What are logical operators in Python ?\n",
        "\n",
        "    In Python, logical operators are used to combine conditional statements. There are 3 logical operators:\n",
        "\n",
        "    and → Returns True if both conditions are true.\n",
        "\n",
        "    or → Returns True if at least one condition is true.\n",
        "\n",
        "    not → Reverses the result (True becomes False, False becomes True).\n",
        "\n",
        "Example:"
      ],
      "metadata": {
        "id": "njZMjfsEBkm5"
      }
    },
    {
      "cell_type": "code",
      "source": [
        "x = 5\n",
        "y = 10\n",
        "\n",
        "print(x > 2 and y > 5)   # True (both are true)\n",
        "print(x > 10 or y > 5)   # True (second condition is true)\n",
        "print(not(x > 2))        # False (x > 2 is True, so not makes it False)\n"
      ],
      "metadata": {
        "id": "4c3_m9fKB2zO"
      },
      "execution_count": null,
      "outputs": []
    },
    {
      "cell_type": "markdown",
      "source": [
        "In short:\n",
        "\n",
        "    and = both must be true\n",
        "\n",
        "    or = at least one true\n",
        "\n",
        "    not = opposite"
      ],
      "metadata": {
        "id": "C68_qkD9B80R"
      }
    },
    {
      "cell_type": "markdown",
      "source": [
        "Question 9. What is type casting in Python ?\n",
        "\n",
        "    Type casting in Python means converting one data type into another.\n",
        "\n",
        "Example: changing an integer into a string, or a float into an integer.\n",
        "\n",
        "There are two main types:\n",
        "\n",
        "1.Implicit Type Casting (Type Conversion)\n",
        "\n",
        "    Done automatically by Python.\n",
        "\n",
        "Example:"
      ],
      "metadata": {
        "id": "iRlKoWGnCD0s"
      }
    },
    {
      "cell_type": "code",
      "source": [
        "x = 5     # int\n",
        "y = 2.5   # float\n",
        "z = x + y  # Python converts int → float automatically\n",
        "print(z)   # 7.5\n"
      ],
      "metadata": {
        "id": "xIOZuFCtCW-o"
      },
      "execution_count": null,
      "outputs": []
    },
    {
      "cell_type": "markdown",
      "source": [
        "2.Explicit Type Casting (Type Casting by user)\n",
        "\n",
        "\n",
        "    You manually convert using functions like int(), float(), str().\n",
        "\n",
        "Example:"
      ],
      "metadata": {
        "id": "v3du7sgyCZvT"
      }
    },
    {
      "cell_type": "code",
      "source": [
        "a = \"10\"\n",
        "b = int(a)   # convert string to int\n",
        "print(b + 5) # 15\n"
      ],
      "metadata": {
        "id": "-Y9IOeCEC2nP"
      },
      "execution_count": null,
      "outputs": []
    },
    {
      "cell_type": "markdown",
      "source": [
        "In short:\n",
        "\n",
        "    Type conversion = automatic (by Python).\n",
        "\n",
        "    Type casting = manual (by programmer)."
      ],
      "metadata": {
        "id": "Whz1MhQ2C78h"
      }
    },
    {
      "cell_type": "markdown",
      "source": [
        "Question 10. What is the difference between implicit and explicit type casting ?\n",
        "\n",
        "1.Implicit Type Casting (Type Conversion)\n",
        "\n",
        "    Done automatically by Python.\n",
        "\n",
        "    Python converts smaller data types into larger data types to avoid data loss.\n",
        "\n",
        "Example:"
      ],
      "metadata": {
        "id": "TqpApF1ZDJDk"
      }
    },
    {
      "cell_type": "code",
      "source": [
        "x = 5      # int\n",
        "y = 2.5    # float\n",
        "z = x + y  # int is converted to float automatically\n",
        "print(z)   # 7.5 (float)\n"
      ],
      "metadata": {
        "id": "Vv3qHe0LDgGd"
      },
      "execution_count": null,
      "outputs": []
    },
    {
      "cell_type": "markdown",
      "source": [
        "2.Explicit Type Casting (Type Casting)\n",
        "\n",
        "    Done manually by the programmer using functions like int(), float(), str().\n",
        "\n",
        "Example:"
      ],
      "metadata": {
        "id": "nU7QijzrDkf3"
      }
    },
    {
      "cell_type": "code",
      "source": [
        "a = \"10\"      # string\n",
        "b = int(a)    # manually convert to int\n",
        "print(b + 5)  # 15\n"
      ],
      "metadata": {
        "id": "IAYxc5pDDqXj"
      },
      "execution_count": null,
      "outputs": []
    },
    {
      "cell_type": "markdown",
      "source": [
        "In short:\n",
        "\n",
        "    Implicit → Python does it automatically.\n",
        "\n",
        "    Explicit → You do it manually."
      ],
      "metadata": {
        "id": "j9bSwAysDwMP"
      }
    },
    {
      "cell_type": "markdown",
      "source": [
        "Question 11. What is the purpose of conditional statements in Python ?\n",
        "\n",
        "    The purpose of conditional statements in Python is to make decisions in your program.\n",
        "\n",
        "    They allow your code to run certain blocks of code only when a condition is true.\n",
        "\n",
        "Example:"
      ],
      "metadata": {
        "id": "TCly3bMYtfBn"
      }
    },
    {
      "cell_type": "code",
      "source": [
        "age = 18\n",
        "\n",
        "if age >= 18:\n",
        "    print(\"You are an adult.\")\n",
        "else:\n",
        "    print(\"You are not an adult.\")\n"
      ],
      "metadata": {
        "id": "iqeHBpxdtxF6"
      },
      "execution_count": null,
      "outputs": []
    },
    {
      "cell_type": "markdown",
      "source": [
        "    Here, the program checks the condition (age >= 18) and decides which message to show.\n",
        "\n",
        "    In short: Conditional statements help control the flow of a program based on conditions. ✅"
      ],
      "metadata": {
        "id": "1GUJ9QGEt2Kh"
      }
    },
    {
      "cell_type": "markdown",
      "source": [
        "Question 12. How does the elif statement work ?\n",
        "\n",
        "    The elif statement in Python means “else if”.\n",
        "    It is used when you have multiple conditions to check, one after another.\n",
        "\n",
        "Example:"
      ],
      "metadata": {
        "id": "nl2f-HCHt7M5"
      }
    },
    {
      "cell_type": "code",
      "source": [
        "marks = 75\n",
        "\n",
        "if marks >= 90:\n",
        "    print(\"Grade A\")\n",
        "elif marks >= 75:\n",
        "    print(\"Grade B\")\n",
        "elif marks >= 50:\n",
        "    print(\"Grade C\")\n",
        "else:\n",
        "    print(\"Fail\")\n"
      ],
      "metadata": {
        "id": "z5RfvOrtuGoL"
      },
      "execution_count": null,
      "outputs": []
    },
    {
      "cell_type": "markdown",
      "source": [
        "How it works:\n",
        "\n",
        "    Python checks conditions from top to bottom.\n",
        "\n",
        "    The first condition that is True will run, and the rest will be skipped.\n",
        "\n",
        "    If none are True, the else block runs.\n",
        "\n",
        "    So in this case, since marks = 75, the program prints \"Grade B\"."
      ],
      "metadata": {
        "id": "fzOuxXQOuMU-"
      }
    },
    {
      "cell_type": "markdown",
      "source": [
        "Question 13. What is the difference between for and while loops ?\n",
        "\n",
        "    The difference between for and while loops in Python is:\n",
        "\n",
        "for loop\n",
        "\n",
        "    Used when you know how many times you want to repeat.\n",
        "\n",
        "    It goes through a sequence (like list, string, or range).\n",
        "\n",
        "Example:"
      ],
      "metadata": {
        "id": "mFBpuJcNuVFa"
      }
    },
    {
      "cell_type": "code",
      "source": [
        "for i in range(5):\n",
        "    print(i)   # prints 0,1,2,3,4\n"
      ],
      "metadata": {
        "id": "6fVCJClUuoJY"
      },
      "execution_count": null,
      "outputs": []
    },
    {
      "cell_type": "markdown",
      "source": [
        "while loop\n",
        "\n",
        "    Used when you don’t know exactly how many times to repeat.\n",
        "\n",
        "    It runs as long as a condition is true.\n",
        "\n",
        "Example:"
      ],
      "metadata": {
        "id": "u9OJj4PmusHc"
      }
    },
    {
      "cell_type": "code",
      "source": [
        "i = 0\n",
        "while i < 5:\n",
        "    print(i)\n",
        "    i += 1   # increase i to avoid infinite loop\n"
      ],
      "metadata": {
        "id": "IZiiUsLMuyjo"
      },
      "execution_count": null,
      "outputs": []
    },
    {
      "cell_type": "markdown",
      "source": [
        "In short:\n",
        "\n",
        "    for loop → repeat a fixed number of times.\n",
        "\n",
        "    while loop → repeat until a condition becomes false."
      ],
      "metadata": {
        "id": "Z_2xFGZbu260"
      }
    },
    {
      "cell_type": "markdown",
      "source": [
        "Question 14. Describe a scenario where a while loop is more suitable than a for loop."
      ],
      "metadata": {
        "id": "_FgpEUlHu-kD"
      }
    },
    {
      "cell_type": "markdown",
      "source": [
        "    A while loop is more suitable when you don’t know in advance how many times the loop should run.\n",
        "\n",
        "Example scenario: ATM PIN check"
      ],
      "metadata": {
        "id": "EmTP_NvwvLFd"
      }
    },
    {
      "cell_type": "code",
      "source": [
        "pin = \"\"\n",
        "correct_pin = \"1234\"\n",
        "\n",
        "while pin != correct_pin:\n",
        "    pin = input(\"Enter your PIN: \")\n",
        "\n",
        "print(\"Access Granted!\")\n"
      ],
      "metadata": {
        "id": "NDXsLeRtvPAo"
      },
      "execution_count": null,
      "outputs": []
    },
    {
      "cell_type": "markdown",
      "source": [
        "    Here, we don’t know how many times the user will enter the wrong PIN.\n",
        "    That’s why a while loop is better than a for loop (since we don’t know the number of attempts in advance)."
      ],
      "metadata": {
        "id": "wyNJ9iR3vUCD"
      }
    },
    {
      "cell_type": "markdown",
      "source": [
        "## PRACTICAL QUESTIONS"
      ],
      "metadata": {
        "id": "ubeSS2FG6_aZ"
      }
    },
    {
      "cell_type": "markdown",
      "source": [
        "Question 1. Write a Python program to print \"Hello, World!"
      ],
      "metadata": {
        "id": "GzcwzQ9K7DdM"
      }
    },
    {
      "cell_type": "code",
      "source": [
        "# Python program to print Hello, World!\n",
        "print(\"Hello, World!\")\n"
      ],
      "metadata": {
        "id": "Hv-Pdew17cTO"
      },
      "execution_count": null,
      "outputs": []
    },
    {
      "cell_type": "markdown",
      "source": [
        "Question 2. Write a Python program that displays your name and age ."
      ],
      "metadata": {
        "id": "m7pMvG8a7Xl4"
      }
    },
    {
      "cell_type": "code",
      "source": [
        "# Python program to display name and age\n",
        "name = \"Karan Singh Bisht\"   # you can replace with your name\n",
        "age = 29                     # you can replace with your age\n",
        "\n",
        "print(\"My name is\", name)\n",
        "print(\"I am\", age, \"years old\")\n"
      ],
      "metadata": {
        "id": "KWDpunXO7t6J"
      },
      "execution_count": null,
      "outputs": []
    },
    {
      "cell_type": "markdown",
      "source": [
        "Question 3. Write code to print all the pre-defined keywords in Python using the keyword library ."
      ],
      "metadata": {
        "id": "SZ-Td2uv71lI"
      }
    },
    {
      "cell_type": "code",
      "source": [
        "# Python program to print all pre-defined keywords\n",
        "\n",
        "import keyword\n",
        "\n",
        "print(\"Python Keywords are:\")\n",
        "print(keyword.kwlist)\n"
      ],
      "metadata": {
        "id": "q9yDF33b79Lv"
      },
      "execution_count": null,
      "outputs": []
    },
    {
      "cell_type": "markdown",
      "source": [
        "Question 4. Write a program that checks if a given word is a Python keyword."
      ],
      "metadata": {
        "id": "GHWHwt4U8B8X"
      }
    },
    {
      "cell_type": "code",
      "source": [
        "# Python program to check if a word is a Python keyword\n",
        "\n",
        "import keyword\n",
        "\n",
        "word = input(\"Enter a word: \")\n",
        "\n",
        "if keyword.iskeyword(word):\n",
        "    print(word, \"is a Python keyword\")\n",
        "else:\n",
        "    print(word, \"is NOT a Python keyword\")\n"
      ],
      "metadata": {
        "id": "_g9m1csP8PtC"
      },
      "execution_count": null,
      "outputs": []
    },
    {
      "cell_type": "markdown",
      "source": [
        "Question 5. Create a list and tuple in Python, and demonstrate how attempting to change an element works differently\n",
        "for each."
      ],
      "metadata": {
        "id": "9G9a11uE8YIi"
      }
    },
    {
      "cell_type": "code",
      "source": [
        "# Python program to show difference between list and tuple\n",
        "\n",
        "# Creating a list\n",
        "my_list = [10, 20, 30]\n",
        "print(\"Original list:\", my_list)\n",
        "\n",
        "# Changing element in list\n",
        "my_list[1] = 200\n",
        "print(\"List after change:\", my_list)\n",
        "\n",
        "# Creating a tuple\n",
        "my_tuple = (10, 20, 30)\n",
        "print(\"\\nOriginal tuple:\", my_tuple)\n",
        "\n",
        "# Trying to change element in tuple (will cause an error)\n",
        "try:\n",
        "    my_tuple[1] = 200\n",
        "except TypeError as e:\n",
        "    print(\"Error when changing tuple:\", e)\n"
      ],
      "metadata": {
        "id": "E_-h_xzq8hy4"
      },
      "execution_count": null,
      "outputs": []
    },
    {
      "cell_type": "markdown",
      "source": [
        "Output:\n",
        "\n",
        "    Original list: [10, 20, 30]\n",
        "    List after change: [10, 200, 30]\n",
        "\n",
        "    Original tuple: (10, 20, 30)\n",
        "    Error when changing tuple: 'tuple' object does not support item assignment\n",
        "\n",
        "Explanation (easy):\n",
        "\n",
        "    List → You can change elements (mutable).\n",
        "\n",
        "    Tuple → You cannot change elements (immutable).\n",
        "\n"
      ],
      "metadata": {
        "id": "OFhQe6KS8mcb"
      }
    },
    {
      "cell_type": "markdown",
      "source": [
        "Question 6. Write a function to demonstrate the behavior of mutable and immutable arguments."
      ],
      "metadata": {
        "id": "55wdYEgT8-ll"
      }
    },
    {
      "cell_type": "code",
      "source": [
        "# Function to show mutable vs immutable behavior\n",
        "def modify(num, my_list):\n",
        "    # Immutable (integer) -> changes won't affect the original\n",
        "    num = num + 10\n",
        "\n",
        "    # Mutable (list) -> changes will affect the original\n",
        "    my_list.append(100)\n",
        "\n",
        "    print(\"Inside function - num:\", num)\n",
        "    print(\"Inside function - list:\", my_list)\n",
        "\n",
        "# Main program\n",
        "number = 5\n",
        "numbers_list = [1, 2, 3]\n",
        "\n",
        "print(\"Before function call - number:\", number)\n",
        "print(\"Before function call - list:\", numbers_list)\n",
        "\n",
        "modify(number, numbers_list)\n",
        "\n",
        "print(\"\\nAfter function call - number:\", number)\n",
        "print(\"After function call - list:\", numbers_list)\n"
      ],
      "metadata": {
        "id": "dS6b0ge99ICL"
      },
      "execution_count": null,
      "outputs": []
    },
    {
      "cell_type": "markdown",
      "source": [
        "Output:\n",
        "\n",
        "    Before function call - number: 5\n",
        "    Before function call - list: [1, 2, 3]\n",
        "\n",
        "    Inside function - num: 15\n",
        "    Inside function - list: [1, 2, 3, 100]\n",
        "\n",
        "    After function call - number: 5\n",
        "    After function call - list: [1, 2, 3, 100]\n"
      ],
      "metadata": {
        "id": "34oII-mb9NBG"
      }
    },
    {
      "cell_type": "markdown",
      "source": [
        "Explanation:\n",
        "\n",
        "    int (immutable) → Doesn’t change outside the function.\n",
        "\n",
        "    list (mutable) → Changes outside the function too."
      ],
      "metadata": {
        "id": "6vEAU-oH9aEB"
      }
    },
    {
      "cell_type": "markdown",
      "source": [
        "Question 7. Write a program that performs basic arithmetic operations on two user-input numbers."
      ],
      "metadata": {
        "id": "NOxSqedK9iP_"
      }
    },
    {
      "cell_type": "code",
      "source": [
        "# Python program for basic arithmetic operations\n",
        "\n",
        "# Taking input from user\n",
        "a = float(input(\"Enter first number: \"))\n",
        "b = float(input(\"Enter second number: \"))\n",
        "\n",
        "# Performing operations\n",
        "print(\"Addition:\", a + b)\n",
        "print(\"Subtraction:\", a - b)\n",
        "print(\"Multiplication:\", a * b)\n",
        "\n",
        "if b != 0:   # check to avoid division by zero\n",
        "    print(\"Division:\", a / b)\n",
        "else:\n",
        "    print(\"Division: Not possible (denominator is zero)\")\n"
      ],
      "metadata": {
        "id": "zTOFENJT9vqc"
      },
      "execution_count": null,
      "outputs": []
    },
    {
      "cell_type": "markdown",
      "source": [
        "Example:\n",
        "\n",
        "    Enter first number: 10\n",
        "    Enter second number: 5\n",
        "    Addition: 15.0\n",
        "    Subtraction: 5.0\n",
        "    Multiplication: 50.0\n",
        "    Division: 2.0\n"
      ],
      "metadata": {
        "id": "R3ekNvpW9xvy"
      }
    },
    {
      "cell_type": "markdown",
      "source": [
        "Question 8. Write a program to demonstrate the use of logical operators."
      ],
      "metadata": {
        "id": "42p9zUbN_jyY"
      }
    },
    {
      "cell_type": "markdown",
      "source": [
        "    Here’s a simple Python program that demonstrates the use of logical operators (and, or, not):"
      ],
      "metadata": {
        "id": "rl2JS4we_zog"
      }
    },
    {
      "cell_type": "code",
      "source": [
        "# Program to demonstrate logical operators in Python\n",
        "\n",
        "a = True\n",
        "b = False\n",
        "\n",
        "print(\"a =\", a)\n",
        "print(\"b =\", b)\n",
        "\n",
        "# Logical AND\n",
        "print(\"a and b =\", a and b)\n",
        "\n",
        "# Logical OR\n",
        "print(\"a or b =\", a or b)\n",
        "\n",
        "# Logical NOT\n",
        "print(\"not a =\", not a)\n",
        "print(\"not b =\", not b)\n"
      ],
      "metadata": {
        "id": "HyxLeAfX_4Hg"
      },
      "execution_count": null,
      "outputs": []
    },
    {
      "cell_type": "markdown",
      "source": [
        "Output:\n",
        "\n",
        "    a = True\n",
        "    b = False\n",
        "    a and b = False\n",
        "    a or b = True\n",
        "    not a = False\n",
        "    not b = True\n"
      ],
      "metadata": {
        "id": "nje3ngZG_9Wi"
      }
    },
    {
      "cell_type": "markdown",
      "source": [
        "Question 9. Write a Python program to convert user input from string to integer, float, and boolean types."
      ],
      "metadata": {
        "id": "e1zXDHlDAN4q"
      }
    },
    {
      "cell_type": "code",
      "source": [
        "# Program to convert user input into int, float, and bool\n",
        "\n",
        "# Taking input from user (by default it's a string)\n",
        "user_input = input(\"Enter something: \")\n",
        "\n",
        "# Convert to integer\n",
        "try:\n",
        "    int_value = int(user_input)\n",
        "    print(\"Integer value:\", int_value)\n",
        "except ValueError:\n",
        "    print(\"Cannot convert to Integer\")\n",
        "\n",
        "# Convert to float\n",
        "try:\n",
        "    float_value = float(user_input)\n",
        "    print(\"Float value:\", float_value)\n",
        "except ValueError:\n",
        "    print(\"Cannot convert to Float\")\n",
        "\n",
        "# Convert to boolean\n",
        "# Any non-empty string (except \"0\" or \"False\") is considered True\n",
        "bool_value = bool(user_input)\n",
        "print(\"Boolean value:\", bool_value)\n"
      ],
      "metadata": {
        "id": "1XGyO3u9AZY7"
      },
      "execution_count": null,
      "outputs": []
    },
    {
      "cell_type": "markdown",
      "source": [
        "    Enter something: 25\n",
        "    Integer value: 25\n",
        "    Float value: 25.0\n",
        "    Boolean value: True\n"
      ],
      "metadata": {
        "id": "EEAM3vMeAjoi"
      }
    },
    {
      "cell_type": "markdown",
      "source": [
        "    If user enters an empty string (\"\"), the Boolean value will be False."
      ],
      "metadata": {
        "id": "Z4LsseM6A1w5"
      }
    },
    {
      "cell_type": "markdown",
      "source": [
        "Question 10. Write code to demonstrate type casting with list elements."
      ],
      "metadata": {
        "id": "C8Zs3aLrBEkc"
      }
    },
    {
      "cell_type": "code",
      "source": [
        "# Program to demonstrate type casting with list elements\n",
        "\n",
        "# A list of strings (numbers stored as strings)\n",
        "str_list = [\"10\", \"20\", \"30\", \"40\", \"50\"]\n",
        "\n",
        "print(\"Original list (strings):\", str_list)\n",
        "\n",
        "# Convert each string element into integer\n",
        "int_list = [int(x) for x in str_list]\n",
        "print(\"List after converting to integers:\", int_list)\n",
        "\n",
        "# Convert each integer element into float\n",
        "float_list = [float(x) for x in int_list]\n",
        "print(\"List after converting to floats:\", float_list)\n",
        "\n",
        "# Convert each integer element into string again\n",
        "back_to_str = [str(x) for x in int_list]\n",
        "print(\"List after converting back to strings:\", back_to_str)\n"
      ],
      "metadata": {
        "id": "mVkM_YMTBPxX"
      },
      "execution_count": null,
      "outputs": []
    },
    {
      "cell_type": "markdown",
      "source": [
        "Output:\n",
        "\n",
        "    Original list (strings): ['10', '20', '30', '40', '50']\n",
        "    List after converting to integers: [10, 20, 30, 40, 50]\n",
        "    List after converting to floats: [10.0, 20.0, 30.0, 40.0, 50.0]\n",
        "    List after converting back to strings: ['10', '20', '30', '40', '50']\n"
      ],
      "metadata": {
        "id": "rNvMesXlBYLE"
      }
    },
    {
      "cell_type": "markdown",
      "source": [
        "Question 11. Write a program that checks if a number is positive, negative, or zero."
      ],
      "metadata": {
        "id": "NMednOjyBm0m"
      }
    },
    {
      "cell_type": "code",
      "source": [
        "# Program to check if a number is positive, negative, or zero\n",
        "\n",
        "# Taking input from the user\n",
        "num = float(input(\"Enter a number: \"))\n",
        "\n",
        "if num > 0:\n",
        "    print(\"The number is Positive.\")\n",
        "elif num < 0:\n",
        "    print(\"The number is Negative.\")\n",
        "else:\n",
        "    print(\"The number is Zero.\")\n"
      ],
      "metadata": {
        "id": "rxNEYE7dBvSJ"
      },
      "execution_count": null,
      "outputs": []
    },
    {
      "cell_type": "markdown",
      "source": [
        "Output:\n",
        "\n",
        "    Enter a number: 15\n",
        "    The number is Positive.\n",
        "\n",
        "    Enter a number: -8\n",
        "    The number is Negative.\n",
        "\n",
        "    Enter a number: 0\n",
        "    The number is Zero.\n"
      ],
      "metadata": {
        "id": "CF4guRBaB46v"
      }
    },
    {
      "cell_type": "markdown",
      "source": [
        "Question 12. Write a for loop to print numbers from 1 to 10."
      ],
      "metadata": {
        "id": "L04_TLYCCTQw"
      }
    },
    {
      "cell_type": "code",
      "source": [
        "# Program to print numbers from 1 to 10 using a for loop\n",
        "\n",
        "for i in range(1, 11):\n",
        "    print(i)\n"
      ],
      "metadata": {
        "id": "i7wOgNSGCaAW"
      },
      "execution_count": null,
      "outputs": []
    },
    {
      "cell_type": "markdown",
      "source": [
        "Output:\n",
        "\n",
        "    1\n",
        "    2\n",
        "    3\n",
        "    4\n",
        "    5\n",
        "    6\n",
        "    7\n",
        "    8\n",
        "    9\n",
        "    10\n"
      ],
      "metadata": {
        "id": "wIXP3zMhCdLs"
      }
    },
    {
      "cell_type": "markdown",
      "source": [
        "Question 13. Write a Python program to find the sum of all even numbers between 1 and 50."
      ],
      "metadata": {
        "id": "lpiD8KEjC5J-"
      }
    },
    {
      "cell_type": "code",
      "source": [
        "# Program to find the sum of even numbers between 1 and 50\n",
        "\n",
        "total = 0\n",
        "\n",
        "for i in range(1, 51):\n",
        "    if i % 2 == 0:   # check if number is even\n",
        "        total += i\n",
        "\n",
        "print(\"Sum of even numbers from 1 to 50 is:\", total)\n"
      ],
      "metadata": {
        "id": "_-hnZeolC_Ds"
      },
      "execution_count": null,
      "outputs": []
    },
    {
      "cell_type": "markdown",
      "source": [
        "Output:\n",
        "\n",
        "    Sum of even numbers from 1 to 50 is: 650\n"
      ],
      "metadata": {
        "id": "9TKLsOQgDChg"
      }
    },
    {
      "cell_type": "markdown",
      "source": [
        "    A shorter way using Python’s range() step feature:"
      ],
      "metadata": {
        "id": "twb9Di2EDJQ5"
      }
    },
    {
      "cell_type": "code",
      "source": [
        "print(\"Sum of even numbers from 1 to 50 is:\", sum(range(2, 51, 2)))\n"
      ],
      "metadata": {
        "id": "-sleKL-3DNLq"
      },
      "execution_count": null,
      "outputs": []
    },
    {
      "cell_type": "markdown",
      "source": [
        "Question 14. Write a program to reverse a string using a while loop."
      ],
      "metadata": {
        "id": "47_0t5uODRfk"
      }
    },
    {
      "cell_type": "code",
      "source": [
        "# Program to reverse a string using a while loop\n",
        "\n",
        "# Take input from user\n",
        "text = input(\"Enter a string: \")\n",
        "\n",
        "# Initialize variables\n",
        "reversed_text = \"\"\n",
        "i = len(text) - 1\n",
        "\n",
        "# Loop backwards through the string\n",
        "while i >= 0:\n",
        "    reversed_text += text[i]\n",
        "    i -= 1\n",
        "\n",
        "print(\"Reversed string:\", reversed_text)\n"
      ],
      "metadata": {
        "id": "VedLVlwyDY_b"
      },
      "execution_count": null,
      "outputs": []
    },
    {
      "cell_type": "markdown",
      "source": [
        "Example:\n",
        "\n",
        "    Enter a string: Python\n",
        "    Reversed string: nohtyP\n"
      ],
      "metadata": {
        "id": "eAfGTzfhDcN6"
      }
    },
    {
      "cell_type": "markdown",
      "source": [
        "Question 15. Write a Python program to calculate the factorial of a number provided by the user using a while loop."
      ],
      "metadata": {
        "id": "spmMBV_kD8_8"
      }
    },
    {
      "cell_type": "code",
      "source": [
        "# Program to calculate factorial using a while loop\n",
        "\n",
        "num = int(input(\"Enter a number: \"))\n",
        "\n",
        "factorial = 1\n",
        "i = 1\n",
        "\n",
        "while i <= num:\n",
        "    factorial *= i\n",
        "    i += 1\n",
        "\n",
        "print(\"Factorial of\", num, \"is:\", factorial)\n"
      ],
      "metadata": {
        "id": "7pY0vJLxEErP"
      },
      "execution_count": null,
      "outputs": []
    },
    {
      "cell_type": "markdown",
      "source": [
        "Example:\n",
        "\n",
        "    Enter a number: 5\n",
        "    Factorial of 5 is: 120\n",
        "\n",
        "    Enter a number: 0\n",
        "    Factorial of 0 is: 1\n",
        "\n"
      ],
      "metadata": {
        "id": "TcxEmFjCEIhJ"
      }
    }
  ]
}